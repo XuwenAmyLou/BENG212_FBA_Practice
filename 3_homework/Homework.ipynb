{
 "cells": [
  {
   "cell_type": "code",
   "execution_count": 1,
   "metadata": {},
   "outputs": [],
   "source": [
    "import cobra\n",
    "import pandas as pd\n",
    "from matplotlib import pyplot as plt\n",
    "import numpy as np\n",
    "from os.path import dirname, abspath\n",
    "import escher\n",
    "\n",
    "map_loc = 'core_map.json'\n",
    "%matplotlib inline"
   ]
  },
  {
   "cell_type": "markdown",
   "metadata": {},
   "source": [
    "# Homework"
   ]
  },
  {
   "cell_type": "code",
   "execution_count": 2,
   "metadata": {},
   "outputs": [
    {
     "data": {
      "application/vnd.jupyter.widget-view+json": {
       "model_id": "334aa56404d04ad1862d43026cefa38c",
       "version_major": 2,
       "version_minor": 0
      },
      "text/plain": [
       "Builder()"
      ]
     },
     "metadata": {},
     "output_type": "display_data"
    }
   ],
   "source": [
    "builder = escher.Builder(map_json=map_loc)\n",
    "builder"
   ]
  },
  {
   "cell_type": "markdown",
   "metadata": {},
   "source": [
    "---\n",
    "## Problem 1: Using Escher FBA\n",
    "Using [escher-FBA](https://sbrg.github.io/escher-fba), maximize for the aerobic production of a triglyceride (glyc_3octa_c) from glycine (gly_c) as the sole substrate (setting the lower bound of glycine uptake to -1)\n",
    "\n",
    "1. What is the maximum value of EX_glyc_3octa_c under these conditions?\n",
    "2. Include a screenshot of the computed solution with your homework submission\n",
    "3. When observing the optimal solution on the escher map, it is clear that many biochemical processes are requried to facillitate the conversion of glycine to a triglyceride. Provide a brief interpretation of the optimal solution. For example:\n",
    "  - Why is the urea cycle active? it is\n",
    "  - Glycine is metabolized to serine with the use of a 5,10-Methylenetetrahydrofolate cofactor. What is the role of this cofactor and how is it replenished in the solution?\n",
    "  - Why is flux diverted into the mitochondria if both the substrate and product are cytosolic metabolites?\n",
    "  - What is the role of the citrate malate shuttle?\n",
    "  - Why is the pentose phosphate pathway active?"
   ]
  },
  {
   "cell_type": "markdown",
   "metadata": {},
   "source": [
    "Answer:\n",
    "1. the maximum value of EX_glyc_3octa_c is 0.0203, and the screenshot is included at the bottom of this file\n",
    "2. the screenshot is included at the bottom of this file\n",
    "3. Questions \n",
    "  - Why is the urea cycle active? Urea cycle is active according to the simulated results. It makes sense because triglyceride synthesis and cleavage produces additional NH4. These produced NH4 is then used in urea cycle.\n",
    "  - Glycine is metabolized to serine with the use of a 5,10-Methylenetetrahydrofolate cofactor. What is the role of this cofactor and how is it replenished in the solution? 5,10-Methylenetetrahydrofolate cofactors is the methyl donor of the reaction. It is replenished by glycine cleavage system, likely a balance between mitochondria/cytosol 5,10-Methylenetetrahydrofolate cofactor.\n",
    "  - Why is flux diverted into the mitochondria if both the substrate and product are cytosolic metabolites? mitochondria is the power house of the cell and produces energy for the reactions.\n",
    "  - What is the role of the citrate malate shuttle? It provides Acetyl-CoA to the synthesis pathway, which essentially provides acetate\n",
    "  - Why is the pentose phosphate pathway active? This pathway generates the major reducing agent for other pathways in the cell (e.g. NADPH)"
   ]
  },
  {
   "cell_type": "markdown",
   "metadata": {},
   "source": [
    "---\n",
    "## Problem 2: Chapter 16 problem 20 (modified)\n",
    "\n",
    "**Synthesis of Oxaloacetate by the Citric Acid Cycle:** Oxaloacetate is formed in the last step of the citric acid cycle by the NAD-dependent oxidation of L-malate. \n",
    "\n",
    "1. Can a net synthesis of oxaloacetate from acetyl-CoA or acetate occur using only the enzymes and cofactors of the citric acid cycle, without depleting the intermediates of the cycle? Explain. \n",
    "\n",
    "2. How is oxaloacetate that is lost from the cycle (to biosynthetic reactions) replenished?\n",
    " - Simulate the synthesis of oxaloacetate (oaa_m) from each carbon-containing mitochondrial metabolite in the core liver model\n",
    "     - Constrain lower bound of metabolite uptake to -1\n",
    " - Display the carbon yield of oxaloacetate on a bar chart for each metabolite (i.e. $\\mathrm{\\frac{mol\\ C_{oaa_m} \\cdot flux\\_oaa_m}{mol\\ C_{precursor} \\cdot flux\\_metabolite\\_uptake}}$)\n",
    " \n",
    "* create a reaction for oxaloacetate synthesis in mitochondria from every single carbon containing metabolites\n",
    "* setting all carbon-containing mitochondrail metabolites lower bound metabolite update to -1 \n",
    "* calculate the equation for each metabolites\n",
    " \n",
    "3. Repeat step 2 starting with oaa_c. Why is the carbon yield of oaa_m below 100% for oaa_c?\n",
    "\n",
    "4. Many plants have evolved a two reaction modification of the TCA cycle called the glyoxylate shunt. It consists of two reactions `MALS` and `ICL`. Rerun the analysis from part 2 with the addition of these two reactions. How does this affect the oaa_m yield of each precursor?\n"
   ]
  },
  {
   "cell_type": "markdown",
   "metadata": {},
   "source": [
    "Answer:\n",
    "1. net syntehsis of oxaloacetate would not be possible without depleting the intermediates. CO2 were removed during the cycle, and some intermediates have to be used to deal with excess CO2. Otherwise the cell would not survive."
   ]
  },
  {
   "cell_type": "code",
   "execution_count": null,
   "metadata": {},
   "outputs": [],
   "source": [
    "model = cobra.io.load_json_model('core_model.json')\n"
   ]
  },
  {
   "cell_type": "markdown",
   "metadata": {},
   "source": [
    "---\n",
    "## Problem 3: Chapter 19 problem 6  \n",
    "\n",
    "**Uncouplers of ETC:** In normal mitochondria the rate of electron transfer is tightly coupled to the demand for ATP. When the rate of use of ATP is relatively low, the rate of electron transfer is low; when demand for ATP increases, electron-transfer rate increases. Under these conditions of tight coupling, the number of ATP molecules produced per atom of oxygen consumed when NADH is the electron donor—the P/O ratio—is about 2.5.\n",
    "\n",
    "(a) Predict the effect of a relatively low and a relatively high concentration of uncoupling agent on the rate of electron transfer and the P/O ratio.\n",
    "\n",
    "**Approach**\n",
    "1. Set minimum glucose uptake rate to -1 $\\frac{mmol}{gDW \\cdot hr}$\n",
    "2. Flux can be forced through the `Htmi` reaction to uncouple electron transport chain\n",
    "3. P/O ratio can be computed as `flux_ATPS4mi / (flux_EX_o2_c * 2)`\n",
    "4. Rate of electron transfer per ATP can be computed as `(flux_NADH2_u10mi + flux_FADH2ETC) / flux_ATPS4mi`\n",
    "5. Plot bloth change of P/O ratio and rate of electron transfer per ATP as a function of uncouping (0 to 95%)\n",
    " - Optimize for Htmi to get the maximum upcoupling flux\n",
    "\n",
    "\n",
    "(B) The uncoupler 2,4-dinitrophenol was once prescribed as a weight-reducing drug. How could this agent, in principle, serve as a weight-reducing aid? Uncoupling agents are no longer prescribed, because some deaths occurred following their use. Why might the ingestion of uncouplers lead to death?\n",
    "\n",
    "**Approach**\n",
    "Perform a similar analysis to the above, but now assuming there are addition energy reserves\n",
    "1. With no uncoupling, find the maximum ATP production rate when the lower bound on glucose uptake rate is set to -1 $\\frac{mmol}{gDW \\cdot hr}$\n",
    " - This represents the basal ATP demand of the cell\n",
    " - Constrain ATPM to this flux value\n",
    "2. Now allow up to -10 $\\frac{mmol}{gDW \\cdot hr}$ of glucose uptake\n",
    "3. Repeat simulations from above, except with the objective of `EX_glc__D_e`\n",
    " - We want to find the minimum glucose uptake that can meet the basal ATP demand\n",
    "4. Plot bloth change of P/O ratio and glucose uptake rate as a function of uncouping (0 to 95%)\n"
   ]
  },
  {
   "cell_type": "code",
   "execution_count": null,
   "metadata": {},
   "outputs": [],
   "source": [
    "model = cobra.io.load_json_model('core_model.json')"
   ]
  },
  {
   "cell_type": "code",
   "execution_count": null,
   "metadata": {},
   "outputs": [],
   "source": [
    "model"
   ]
  },
  {
   "cell_type": "code",
   "execution_count": null,
   "metadata": {},
   "outputs": [],
   "source": []
  },
  {
   "cell_type": "markdown",
   "metadata": {},
   "source": [
    "---\n",
    "## Problem 4: Defining a solutions space: PGI and G6PDH flux split\n",
    "\n",
    "\n",
    "### 1) Flux variability analysis\n",
    "Characterize the bounds of the solution space of upper glycolysis and oxidative PPP as a function of ATP demand\n",
    "\n",
    "Maximize and minimize the flux through G6PDH2r and PGI for values of ATPM form 0 to the maximum values\n",
    " - **Note** minimization is performed by passing 'minimize' into `optimize` method\n",
    " \n",
    "Use the `plot_fva` to visualize results. Store the outpus in lists corresponding to those documented in `plot_fva`."
   ]
  },
  {
   "cell_type": "code",
   "execution_count": null,
   "metadata": {},
   "outputs": [],
   "source": [
    "def plot_fva(atpm_values, max_g6pdh_values, max_pgi_values, min_g6pdh_values, min_pgi_values):\n",
    "    \"\"\"\n",
    "    Parameters\n",
    "    ----------\n",
    "    atpm_values : list\n",
    "        list of ATPM flux values from 0 to max\n",
    "        \n",
    "    max_g6pdh_values : list\n",
    "        list of maximum G6PDH2r flux values at the ATPM fluxes in atpm_values\n",
    "    max_pgi_values : list\n",
    "        list of maximum PGI flux values at the ATPM fluxes in atpm_values\n",
    "\n",
    "    min_g6pdh_values : list \n",
    "        list of minimum G6PDH2r flux values at the ATPM fluxes in atpm_values\n",
    "\n",
    "    min_pgi_values : list\n",
    "        list of minimum PGI flux values at the ATPM fluxes in atpm_values\n",
    "\n",
    "    \"\"\"\n",
    "    plt.fill_between(atpm_values, max_g6pdh_values, min_g6pdh_values, \n",
    "                     label='G6PDH (PPP)', alpha=.7)\n",
    "    plt.fill_between(atpm_values, max_pgi_values, min_pgi_values, \n",
    "                     label='PGI (Glycolysis)', alpha=.7)\n",
    "    plt.legend()\n",
    "    plt.xlabel('ATPM flux')\n",
    "    plt.ylabel('Range of possible fluxes')"
   ]
  },
  {
   "cell_type": "code",
   "execution_count": null,
   "metadata": {},
   "outputs": [],
   "source": [
    "model = cobra.io.load_json_model('core_model.json')"
   ]
  },
  {
   "cell_type": "markdown",
   "metadata": {},
   "source": [
    "### 2) Characterizing solution space (sampling)\n",
    "\n",
    "Use the `cobra.sampling` function to sample the model 1000 times. \n",
    "\n",
    "**Note**: this returns a dataframe. You can visualize the solutions with `df[['G6PDH2r', 'PGI']].hist()`. This provides an idea of what level of flux through PGI or G6PDH is \"most likely\""
   ]
  },
  {
   "cell_type": "code",
   "execution_count": null,
   "metadata": {},
   "outputs": [],
   "source": [
    "model = cobra.io.load_json_model('core_model.json')"
   ]
  },
  {
   "cell_type": "markdown",
   "metadata": {},
   "source": [
    "---\n",
    "## Problem 5: Liver metabolism in Propionic Acidemia\n",
    "Propionic acidemia is an inborn error of metabolism caused by a loss of function mutation in propionyl-CoA carboxylase (PPCOACm). Use the liver model to determine which carbon-containing substrates in the model can no longer be metabolized to produce ATP in people with this condition?\n",
    "\n",
    "**Reminder**\n",
    "PPCOACm function can be knocked out by using `model.reactions.PPCOACm.knock_out()`, which sets the lower and upper bound to 0"
   ]
  },
  {
   "cell_type": "code",
   "execution_count": null,
   "metadata": {},
   "outputs": [],
   "source": [
    "model = cobra.io.load_json_model('core_model.json')"
   ]
  }
 ],
 "metadata": {
  "kernelspec": {
   "display_name": "Python 3 (ipykernel)",
   "language": "python",
   "name": "python3"
  },
  "language_info": {
   "codemirror_mode": {
    "name": "ipython",
    "version": 3
   },
   "file_extension": ".py",
   "mimetype": "text/x-python",
   "name": "python",
   "nbconvert_exporter": "python",
   "pygments_lexer": "ipython3",
   "version": "3.9.13"
  }
 },
 "nbformat": 4,
 "nbformat_minor": 4
}
