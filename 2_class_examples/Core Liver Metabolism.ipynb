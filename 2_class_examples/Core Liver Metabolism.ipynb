{
 "cells": [
  {
   "cell_type": "code",
   "execution_count": 1,
   "id": "26816988",
   "metadata": {},
   "outputs": [],
   "source": [
    "import cobra"
   ]
  },
  {
   "cell_type": "markdown",
   "id": "88969645",
   "metadata": {},
   "source": [
    "**Lecture 5 Learning Objectives**\n",
    "\n",
    "1. modl conflicting demands on liver metabolism\n",
    "* energy production\n",
    "* parallel processing demands\n",
    "2. characterizing optimal solutions\n",
    "3. diagnose capabilities of system\n",
    "\n",
    "**lecture 6 Learning Objectives (today)**\n",
    "1. apply models to characterize health and disease\n",
    "2. integrate FBA solution with statistical learning techniques\n",
    "3. beyond steady analysis\n"
   ]
  },
  {
   "cell_type": "code",
   "execution_count": 2,
   "id": "b0c50633",
   "metadata": {},
   "outputs": [],
   "source": [
    "full_model = cobra.io.load_json_model('/Users/louxuwen/Desktop/Documents/GitHub/BENG212_FBA_Practice/0_example_escher_fba/core_model.json')"
   ]
  },
  {
   "cell_type": "code",
   "execution_count": 3,
   "id": "2fbfc1c3",
   "metadata": {},
   "outputs": [
    {
     "data": {
      "text/html": [
       "\n",
       "        <table>\n",
       "            <tr>\n",
       "                <td><strong>Name</strong></td>\n",
       "                <td>None</td>\n",
       "            </tr><tr>\n",
       "                <td><strong>Memory address</strong></td>\n",
       "                <td>7f988ac3ba60</td>\n",
       "            </tr><tr>\n",
       "                <td><strong>Number of metabolites</strong></td>\n",
       "                <td>248</td>\n",
       "            </tr><tr>\n",
       "                <td><strong>Number of reactions</strong></td>\n",
       "                <td>283</td>\n",
       "            </tr><tr>\n",
       "                <td><strong>Number of genes</strong></td>\n",
       "                <td>436</td>\n",
       "            </tr><tr>\n",
       "                <td><strong>Number of groups</strong></td>\n",
       "                <td>0</td>\n",
       "            </tr><tr>\n",
       "                <td><strong>Objective expression</strong></td>\n",
       "                <td>1.0*ATPM - 1.0*ATPM_reverse_5b752</td>\n",
       "            </tr><tr>\n",
       "                <td><strong>Compartments</strong></td>\n",
       "                <td>m, i, c, r, </td>\n",
       "            </tr>\n",
       "          </table>"
      ],
      "text/plain": [
       "<Model None at 0x7f988ac3ba60>"
      ]
     },
     "execution_count": 3,
     "metadata": {},
     "output_type": "execute_result"
    }
   ],
   "source": [
    "full_model"
   ]
  },
  {
   "cell_type": "markdown",
   "id": "07da23d4",
   "metadata": {},
   "source": []
  },
  {
   "cell_type": "code",
   "execution_count": null,
   "id": "468c5b02",
   "metadata": {},
   "outputs": [],
   "source": []
  },
  {
   "cell_type": "code",
   "execution_count": null,
   "id": "2d93ccaf",
   "metadata": {},
   "outputs": [],
   "source": []
  },
  {
   "cell_type": "code",
   "execution_count": null,
   "id": "aa670667",
   "metadata": {},
   "outputs": [],
   "source": []
  },
  {
   "cell_type": "code",
   "execution_count": null,
   "id": "cfdb4d36",
   "metadata": {},
   "outputs": [],
   "source": []
  },
  {
   "cell_type": "code",
   "execution_count": null,
   "id": "28b97afe",
   "metadata": {},
   "outputs": [],
   "source": []
  }
 ],
 "metadata": {
  "kernelspec": {
   "display_name": "Python 3 (ipykernel)",
   "language": "python",
   "name": "python3"
  },
  "language_info": {
   "codemirror_mode": {
    "name": "ipython",
    "version": 3
   },
   "file_extension": ".py",
   "mimetype": "text/x-python",
   "name": "python",
   "nbconvert_exporter": "python",
   "pygments_lexer": "ipython3",
   "version": "3.9.13"
  }
 },
 "nbformat": 4,
 "nbformat_minor": 5
}
